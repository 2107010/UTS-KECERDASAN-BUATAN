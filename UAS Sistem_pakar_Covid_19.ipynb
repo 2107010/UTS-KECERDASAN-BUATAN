{
  "cells": [
    {
      "cell_type": "markdown",
      "metadata": {
        "id": "view-in-github",
        "colab_type": "text"
      },
      "source": [
        "<a href=\"https://colab.research.google.com/github/2107010/UTS-KECERDASAN-BUATAN/blob/main/UAS%20Sistem_pakar_Covid_19.ipynb\" target=\"_parent\"><img src=\"https://colab.research.google.com/assets/colab-badge.svg\" alt=\"Open In Colab\"/></a>"
      ]
    },
    {
      "cell_type": "code",
      "execution_count": null,
      "metadata": {
        "colab": {
          "background_save": true,
          "base_uri": "https://localhost:8080/"
        },
        "id": "4vwvvAf57lXc",
        "outputId": "cd30c56e-3088-423c-d5cb-700661af2c14"
      },
      "outputs": [
        {
          "metadata": {
            "tags": null
          },
          "name": "stdout",
          "output_type": "stream",
          "text": [
            "-----------------------------------------------------\n",
            "|\t Selamat datang di aplikasi Sistem Pakar\t |\n",
            "|\t Mendeteksi Virus Covid 19              \t |\n",
            "-----------------------------------------------------\n",
            "Apakah anda merasakan gejala seperti berikut ini ?\n",
            "1. Batuk\n",
            "2. Demam/Suhu badan tinggi\n",
            "3. Kelelahan\n",
            "4. Kehilangan rasa\n",
            "5. Pegal pegal\n",
            "6. Tidak nafsu makan\n",
            "Apakah anda merasakan gejala seperti berikut ini ?\n",
            "1. Batuk\n",
            "2. Demam/Suhu badan tinggi\n",
            "3. Kelelahan\n",
            "4. Kehilangan rasa\n",
            "5. Pegal pegal\n",
            "6. Tidak nafsu makan\n",
            "Apakah anda merasakan gejala seperti berikut ini ?\n",
            "1. Sakit diare\n",
            "2. Sakit kepala\n",
            "3. Sakit tenggorokan\n",
            "4. nyeri persendian\n",
            "5. ruam pada kulit\n",
            "Hallo,Sandi Mukhtar Fauzi hasil awal diagnosa adalah :\n",
            "Gejala terinveksi Covid 19, segera datang ke rumah sakit\n",
            "Apakah anda merasakan gejala seperti berikut ini ?\n",
            "1. Batuk\n",
            "2. Demam/Suhu badan tinggi\n",
            "3. Kelelahan\n",
            "4. Kehilangan rasa\n",
            "5. Pegal pegal\n",
            "6. Tidak nafsu makan\n"
          ]
        }
      ],
      "source": [
        "print(\"-----------------------------------------------------\")\n",
        "print(\"|\\t Selamat datang di aplikasi Sistem Pakar\\t |\")\n",
        "print(\"|\\t Mendeteksi Virus Covid 19              \\t |\")\n",
        "print(\"-----------------------------------------------------\")\n",
        "\n",
        "nama=input(\"Nama\\t:\")\n",
        "usia=input(\"usia\\t:\")\n",
        "\n",
        "pilihan = input(\"Hallo \"+nama+\", Apakah anda ingin melakukan Diagnosa?(y/n)\")\n",
        "\n",
        "while pilihan == \"y\" :\n",
        "  print(\"Apakah anda merasakan gejala seperti berikut ini ?\")\n",
        "  print(\"1. Batuk\")\n",
        "  print(\"2. Demam/Suhu badan tinggi\")\n",
        "  print(\"3. Kelelahan\")\n",
        "  print(\"4. Kehilangan rasa\")\n",
        "  print(\"5. Pegal pegal\")\n",
        "  print(\"6. Tidak nafsu makan\")\n",
        "  diagnosa1=input(\"Jawab (y/n):\")\n",
        "\n",
        "  if diagnosa1 == \"y\":\n",
        "    print(\"Apakah anda merasakan gejala seperti berikut ini ?\")\n",
        "    print(\"1. Sakit diare\")\n",
        "    print(\"2. Sakit kepala\")\n",
        "    print(\"3. Sakit tenggorokan\")\n",
        "    print(\"4. nyeri persendian\")\n",
        "    print(\"5. ruam pada kulit\")\n",
        "    diagnosa2=input(\"Jawab (y/n):\")\n",
        "\n",
        "    if diagnosa2 == \"y\" :\n",
        "      print(\"Hallo,\"+nama+\" hasil awal diagnosa adalah :\")\n",
        "      print(\"Gejala terinveksi Covid 19, segera datang ke rumah sakit\")\n",
        "\n",
        "    elif diagnosa2 == \"n\" :\n",
        "      print(\"Apakah anda merasakan gejala berikut ini ? :\")\n",
        "      print(\"1. kesulitan bergerak atau berbicara\")\n",
        "      print(\"2. kesulitan bernapas atau sesak napas\")\n",
        "      print(\"3. nyeri dada\")\n",
        "      diagnosa3 = input(\"Jawab (y/n) :\")\n",
        "\n",
        "      if diagnosa3 ==\"y\" :\n",
        "        print(\"Hallo,\"+nama+\" hasil awal diagnosa kamu adalah :\")\n",
        "        print(\"Gejala terinveksi Covid 19, segera datang ke rumah sakit\")\n",
        "if diagnosa1 ==\"n\":\n",
        "   print(\"Hallo,\"+nama+\" Anda sepertinya harus punya pacar baru\")\n",
        "else :\n",
        "  print(\"+--------------------Terima Kasih------------------------------------+\")"
      ]
    }
  ],
  "metadata": {
    "colab": {
      "provenance": [],
      "authorship_tag": "ABX9TyPxpRZdfCRp3YWYGq68dygV",
      "include_colab_link": true
    },
    "kernelspec": {
      "display_name": "Python 3",
      "name": "python3"
    },
    "language_info": {
      "name": "python"
    }
  },
  "nbformat": 4,
  "nbformat_minor": 0
}